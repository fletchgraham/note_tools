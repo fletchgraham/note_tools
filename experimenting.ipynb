{
 "cells": [
  {
   "cell_type": "code",
   "execution_count": 1,
   "metadata": {},
   "outputs": [],
   "source": [
    "# open and read the text file\n",
    "\n",
    "with open('lydia_notes.txt', 'r') as infile:\n",
    "    text = infile.read()"
   ]
  },
  {
   "cell_type": "code",
   "execution_count": 2,
   "metadata": {},
   "outputs": [],
   "source": [
    "# separate cards by the delimeter\n",
    "\n",
    "cards = text.split('---')\n"
   ]
  },
  {
   "cell_type": "code",
   "execution_count": 3,
   "metadata": {},
   "outputs": [],
   "source": [
    "# shave off the first and last cards as they are headers or empty\n",
    "# also clean up newlines\n",
    "\n",
    "cards = [card.strip() for card in cards[1:-1]]\n"
   ]
  },
  {
   "cell_type": "code",
   "execution_count": 4,
   "metadata": {},
   "outputs": [
    {
     "data": {
      "text/plain": [
       "[['Who does Herodotus say was the first person who \"inflicted injury upon the Greeks\" ?',\n",
       "  'Croesus, son of Alyattes'],\n",
       " ['Who does Herodotus say was lord of all nations west of the river Halys from 560-546 BC?',\n",
       "  'Croesus, son of Alyattes'],\n",
       " ['Which two regions does Herodotus describe the river Halys separating?',\n",
       "  \"Cappadocia (east) and Paphlagonia (west)<br><br>He calls Cappadocia 'Syria'\"],\n",
       " ['Into what sea does Herodotus say the river Halys falls?', 'The Black Sea'],\n",
       " ['Nationality of Croesus?', 'Lydian'],\n",
       " ['timespan of the rule of Croesus son of Alyattes?', '560 - 546 BC'],\n",
       " ['Asia Minor is also known as', 'Anatolia'],\n",
       " ['Naturally occurring alloy of Gold, Silver and trace amounts of copper.',\n",
       "  'Electrum'],\n",
       " ['The first Lydian coins were made of', 'Electrum'],\n",
       " ['Electrum is also known as [...] Gold', 'Green'],\n",
       " ['Why does Herodotus say the Greeks had all been free before Croesus, even though the Cimmerian attack on Ionia occurred earlier?',\n",
       "  'it was just for plundering, not a \"conquest of cities\"'],\n",
       " ['To whom did the sovereignty of Lydia belong before the Mermnadae?',\n",
       "  'the Heraclids'],\n",
       " ['Croesus and Gyges are members of what family line?', 'the Mermnadae'],\n",
       " ['Capital of Lydia', 'Sardis'],\n",
       " [\"Candaules' favorite bodyguard to whom he lost his life\", 'Gyges'],\n",
       " [\"Name of the king whom the Greeks called 'Myrsilus'\",\n",
       "  'Candaules, son of Myrsus']]"
      ]
     },
     "execution_count": 4,
     "metadata": {},
     "output_type": "execute_result"
    }
   ],
   "source": [
    "cards = [card.split('\\n\\n') for card in cards]\n",
    "\n",
    "# handle instances in which I elaborate on the back of the card\n",
    "for index, card in enumerate(cards):\n",
    "    if len(card) > 2:\n",
    "        cards[index] = [card[0], '<br><br>'.join(card[1:])]\n",
    "\n",
    "cards"
   ]
  },
  {
   "cell_type": "code",
   "execution_count": 5,
   "metadata": {},
   "outputs": [
    {
     "data": {
      "text/plain": [
       "'Who does Herodotus say was the first person who \"inflicted injury upon the Greeks\" ?\\tCroesus, son of Alyattes\\nWho does Herodotus say was lord of all nations west of the river Halys from 560-546 BC?\\tCroesus, son of Alyattes\\nWhich two regions does Herodotus describe the river Halys separating?\\tCappadocia (east) and Paphlagonia (west)<br><br>He calls Cappadocia \\'Syria\\'\\nInto what sea does Herodotus say the river Halys falls?\\tThe Black Sea\\nNationality of Croesus?\\tLydian\\ntimespan of the rule of Croesus son of Alyattes?\\t560 - 546 BC\\nAsia Minor is also known as\\tAnatolia\\nNaturally occurring alloy of Gold, Silver and trace amounts of copper.\\tElectrum\\nThe first Lydian coins were made of\\tElectrum\\nElectrum is also known as [...] Gold\\tGreen\\nWhy does Herodotus say the Greeks had all been free before Croesus, even though the Cimmerian attack on Ionia occurred earlier?\\tit was just for plundering, not a \"conquest of cities\"\\nTo whom did the sovereignty of Lydia belong before the Mermnadae?\\tthe Heraclids\\nCroesus and Gyges are members of what family line?\\tthe Mermnadae\\nCapital of Lydia\\tSardis\\nCandaules\\' favorite bodyguard to whom he lost his life\\tGyges\\nName of the king whom the Greeks called \\'Myrsilus\\'\\tCandaules, son of Myrsus'"
      ]
     },
     "execution_count": 5,
     "metadata": {},
     "output_type": "execute_result"
    }
   ],
   "source": [
    "cleaned_up = []\n",
    "\n",
    "for card in cards:\n",
    "    clean_card = [field.strip() for field in card]\n",
    "    clean_card = '\\t'.join(clean_card)\n",
    "    cleaned_up.append(clean_card)\n",
    "    \n",
    "cards = cleaned_up\n",
    "\n",
    "# join'er up\n",
    "\n",
    "cards = '\\n'.join(cards)\n",
    "\n",
    "cards\n",
    "\n"
   ]
  },
  {
   "cell_type": "code",
   "execution_count": 6,
   "metadata": {},
   "outputs": [],
   "source": [
    "# save_out\n",
    "\n",
    "with open('notes_reformat.txt', 'w') as outfile:\n",
    "    outfile.write(cards)\n",
    "    \n"
   ]
  }
 ],
 "metadata": {
  "kernelspec": {
   "display_name": "Python 3",
   "language": "python",
   "name": "python3"
  },
  "language_info": {
   "codemirror_mode": {
    "name": "ipython",
    "version": 3
   },
   "file_extension": ".py",
   "mimetype": "text/x-python",
   "name": "python",
   "nbconvert_exporter": "python",
   "pygments_lexer": "ipython3",
   "version": "3.7.0"
  }
 },
 "nbformat": 4,
 "nbformat_minor": 4
}
